{
 "cells": [
  {
   "cell_type": "markdown",
   "metadata": {},
   "source": [
    "# Importing Libraries"
   ]
  },
  {
   "cell_type": "code",
   "execution_count": 1,
   "metadata": {},
   "outputs": [],
   "source": [
    "import os\n",
    "import pandas as pd\n",
    "import pickle\n",
    "import shutil\n",
    "import numpy as np\n",
    "import seaborn as sns\n",
    "from sklearn.datasets import load_files\n",
    "from keras.utils import np_utils\n",
    "import matplotlib.pyplot as plt\n",
    "from keras.layers import Conv2D, MaxPooling2D, GlobalAveragePooling2D\n",
    "from keras.layers import Dropout, Flatten, Dense\n",
    "from keras.models import Sequential\n",
    "from keras.utils.vis_utils import plot_model\n",
    "from keras.callbacks import ModelCheckpoint\n",
    "from keras.utils import to_categorical\n",
    "from sklearn.metrics import confusion_matrix\n",
    "from sklearn.metrics import accuracy_score,precision_score,recall_score,f1_score\n",
    "\n",
    "\n",
    "from PIL import ImageFile   \n",
    "from sklearn.model_selection import train_test_split\n",
    "from keras.preprocessing import image                  \n",
    "from tqdm import tqdm\n",
    "\n",
    "#from keras.applications.vgg16 import VGG16\n",
    "from tensorflow.keras.applications.vgg19 import VGG19\n",
    "\n",
    " "
   ]
  },
  {
   "cell_type": "markdown",
   "metadata": {},
   "source": [
    "# Defining the train,test and model directories\n",
    "\n",
    "* We will create the directories for train,test and model training paths if not present"
   ]
  },
  {
   "cell_type": "code",
   "execution_count": 2,
   "metadata": {},
   "outputs": [],
   "source": [
    "TEST_DIR = os.path.join(os.getcwd(),\"imgs\",\"test\")\n",
    "TRAIN_DIR = os.path.join(os.getcwd(),\"imgs\",\"train\")\n",
    "MODEL_PATH = os.path.join(os.getcwd(),\"model\",\"vgg19\")\n",
    "PICKLE_PATH = os.path.join(os.getcwd(),\"picklevgg19\")\n",
    "TEST_CSV = os.path.join(os.getcwd(),\"csv_files\",\"test.csv\")\n",
    "TRAIN_CSV = os.path.join(os.getcwd(),\"csv_files\",\"train.csv\")"
   ]
  },
  {
   "cell_type": "code",
   "execution_count": 3,
   "metadata": {},
   "outputs": [],
   "source": [
    "if not os.path.exists(TEST_DIR):\n",
    "    print(\"Testing data does not exists\")\n",
    "if not os.path.exists(TRAIN_DIR):\n",
    "    print(\"Training data does not exists\")\n",
    "if not os.path.exists(MODEL_PATH):\n",
    "    print(\"Model path does not exists\")\n",
    "    os.makedirs(MODEL_PATH)\n",
    "    print(\"Model path created\")\n",
    "else:\n",
    "    shutil.rmtree(MODEL_PATH)\n",
    "    os.makedirs(MODEL_PATH)\n",
    "if not os.path.exists(PICKLE_PATH):\n",
    "    os.makedirs(PICKLE_PATH)"
   ]
  },
  {
   "cell_type": "code",
   "execution_count": 4,
   "metadata": {},
   "outputs": [],
   "source": [
    "data_train = pd.read_csv(TRAIN_CSV)\n",
    "data_test = pd.read_csv(TEST_CSV)"
   ]
  },
  {
   "cell_type": "code",
   "execution_count": 5,
   "metadata": {},
   "outputs": [
    {
     "name": "stdout",
     "output_type": "stream",
     "text": [
      "{'c3': 0, 'c0': 1, 'c4': 2, 'c2': 3, 'c6': 4, 'c5': 5, 'c1': 6, 'c7': 7, 'c8': 8, 'c9': 9}\n",
      "(22424, 10)\n"
     ]
    }
   ],
   "source": [
    "labels_list = list(set(data_train['ClassName'].values.tolist()))\n",
    "labels_id = {label_name:id for id,label_name in enumerate(labels_list)}\n",
    "print(labels_id)\n",
    "data_train['ClassName'].replace(labels_id,inplace=True)\n",
    "\n",
    "labels = to_categorical(data_train['ClassName'])\n",
    "print(labels.shape)\n",
    "\n",
    "with open(os.path.join(PICKLE_PATH,\"labels_list_vgg19.pkl\"),\"wb\") as handle:\n",
    "    pickle.dump(labels_id,handle)"
   ]
  },
  {
   "cell_type": "markdown",
   "metadata": {},
   "source": [
    "# Data Preparation\n",
    "\n",
    "1. Converting the all the train and test images into image size of 64,64,3 \n",
    "2. Standardizing the flattened image vector "
   ]
  },
  {
   "cell_type": "code",
   "execution_count": 6,
   "metadata": {},
   "outputs": [],
   "source": [
    "xtrain,xtest,ytrain,ytest = train_test_split(data_train.iloc[:,0],labels,test_size = 0.2,random_state=42)\n",
    "def path_to_tensor(img_path):\n",
    "    # loads RGB image as PIL.Image.Image type\n",
    "    img = image.load_img(img_path, target_size=(64, 64))\n",
    "    # convert PIL.Image.Image type to 3D tensor with shape (64, 64, 3)\n",
    "    x = image.img_to_array(img)\n",
    "    # convert 3D tensor to 4D tensor with shape (1, 64, 64, 3) and return 4D tensor\n",
    "    return np.expand_dims(x, axis=0)\n",
    "\n",
    "def paths_to_tensor(img_paths):\n",
    "    list_of_tensors = [path_to_tensor(img_path) for img_path in tqdm(img_paths)]\n",
    "    return np.vstack(list_of_tensors)"
   ]
  },
  {
   "cell_type": "code",
   "execution_count": 7,
   "metadata": {},
   "outputs": [
    {
     "name": "stderr",
     "output_type": "stream",
     "text": [
      "100%|██████████| 17939/17939 [00:30<00:00, 596.82it/s]\n",
      "100%|██████████| 4485/4485 [00:07<00:00, 600.38it/s]\n"
     ]
    }
   ],
   "source": [
    "ImageFile.LOAD_TRUNCATED_IMAGES = True                 \n",
    "# pre-process the data for Keras\n",
    "train_tensors = paths_to_tensor(xtrain).astype('float32')/255 - 0.5\n",
    "valid_tensors = paths_to_tensor(xtest).astype('float32')/255 - 0.5"
   ]
  },
  {
   "cell_type": "markdown",
   "metadata": {},
   "source": [
    "# MODEL ARCHITECTURE\n",
    "\n",
    "## Approach Used\n",
    "1. Removing the top layer of VGG19 model\n",
    "2. Using the n-1 layers of VGG19 to predict the last layer of it using the flattened image vector \n",
    "3. The last layer thus achieved is a dense feature representation for a particular image\n",
    "4. Passing this layer feature through a GlobalAveragePooling Layer and a further dense softmax layer for each of 10 classes\n",
    "\n",
    "## Benefits\n",
    "\n",
    "1. Making CNN architecture from scratch involves in training of all the deep layers which results in slow training\n",
    "2. Instead of a large sparse image vector a dense feature representation used here requires less memory while training"
   ]
  },
  {
   "cell_type": "code",
   "execution_count": 8,
   "metadata": {
    "scrolled": true
   },
   "outputs": [
    {
     "name": "stdout",
     "output_type": "stream",
     "text": [
      "Downloading data from https://storage.googleapis.com/tensorflow/keras-applications/vgg19/vgg19_weights_tf_dim_ordering_tf_kernels_notop.h5\n",
      "80142336/80134624 [==============================] - 14s 0us/step\n",
      "Model: \"vgg19\"\n",
      "_________________________________________________________________\n",
      "Layer (type)                 Output Shape              Param #   \n",
      "=================================================================\n",
      "input_1 (InputLayer)         [(None, None, None, 3)]   0         \n",
      "_________________________________________________________________\n",
      "block1_conv1 (Conv2D)        (None, None, None, 64)    1792      \n",
      "_________________________________________________________________\n",
      "block1_conv2 (Conv2D)        (None, None, None, 64)    36928     \n",
      "_________________________________________________________________\n",
      "block1_pool (MaxPooling2D)   (None, None, None, 64)    0         \n",
      "_________________________________________________________________\n",
      "block2_conv1 (Conv2D)        (None, None, None, 128)   73856     \n",
      "_________________________________________________________________\n",
      "block2_conv2 (Conv2D)        (None, None, None, 128)   147584    \n",
      "_________________________________________________________________\n",
      "block2_pool (MaxPooling2D)   (None, None, None, 128)   0         \n",
      "_________________________________________________________________\n",
      "block3_conv1 (Conv2D)        (None, None, None, 256)   295168    \n",
      "_________________________________________________________________\n",
      "block3_conv2 (Conv2D)        (None, None, None, 256)   590080    \n",
      "_________________________________________________________________\n",
      "block3_conv3 (Conv2D)        (None, None, None, 256)   590080    \n",
      "_________________________________________________________________\n",
      "block3_conv4 (Conv2D)        (None, None, None, 256)   590080    \n",
      "_________________________________________________________________\n",
      "block3_pool (MaxPooling2D)   (None, None, None, 256)   0         \n",
      "_________________________________________________________________\n",
      "block4_conv1 (Conv2D)        (None, None, None, 512)   1180160   \n",
      "_________________________________________________________________\n",
      "block4_conv2 (Conv2D)        (None, None, None, 512)   2359808   \n",
      "_________________________________________________________________\n",
      "block4_conv3 (Conv2D)        (None, None, None, 512)   2359808   \n",
      "_________________________________________________________________\n",
      "block4_conv4 (Conv2D)        (None, None, None, 512)   2359808   \n",
      "_________________________________________________________________\n",
      "block4_pool (MaxPooling2D)   (None, None, None, 512)   0         \n",
      "_________________________________________________________________\n",
      "block5_conv1 (Conv2D)        (None, None, None, 512)   2359808   \n",
      "_________________________________________________________________\n",
      "block5_conv2 (Conv2D)        (None, None, None, 512)   2359808   \n",
      "_________________________________________________________________\n",
      "block5_conv3 (Conv2D)        (None, None, None, 512)   2359808   \n",
      "_________________________________________________________________\n",
      "block5_conv4 (Conv2D)        (None, None, None, 512)   2359808   \n",
      "_________________________________________________________________\n",
      "block5_pool (MaxPooling2D)   (None, None, None, 512)   0         \n",
      "=================================================================\n",
      "Total params: 20,024,384\n",
      "Trainable params: 20,024,384\n",
      "Non-trainable params: 0\n",
      "_________________________________________________________________\n"
     ]
    }
   ],
   "source": [
    "model = VGG19(include_top=False)\n",
    "model.summary()"
   ]
  },
  {
   "cell_type": "code",
   "execution_count": 9,
   "metadata": {
    "scrolled": true
   },
   "outputs": [
    {
     "name": "stdout",
     "output_type": "stream",
     "text": [
      "561/561 [==============================] - 295s 526ms/step\n",
      "141/141 [==============================] - 79s 561ms/step\n"
     ]
    }
   ],
   "source": [
    "train_vgg19 = model.predict(train_tensors,verbose=1)\n",
    "valid_vgg19 = model.predict(valid_tensors,verbose=1)"
   ]
  },
  {
   "cell_type": "code",
   "execution_count": 10,
   "metadata": {},
   "outputs": [
    {
     "name": "stdout",
     "output_type": "stream",
     "text": [
      "Train shape (17939, 2, 2, 512)\n",
      "Validation shape (4485, 2, 2, 512)\n"
     ]
    }
   ],
   "source": [
    "print(\"Train shape\",train_vgg19.shape)\n",
    "print(\"Validation shape\",valid_vgg19.shape)"
   ]
  },
  {
   "cell_type": "code",
   "execution_count": 11,
   "metadata": {},
   "outputs": [],
   "source": [
    "train_features = train_vgg19[0]\n",
    "valid_features = valid_vgg19[0]"
   ]
  },
  {
   "cell_type": "code",
   "execution_count": 12,
   "metadata": {
    "scrolled": true
   },
   "outputs": [
    {
     "name": "stdout",
     "output_type": "stream",
     "text": [
      "Train features shape (2, 2, 512)\n",
      "Validation features shape (2, 2, 512)\n"
     ]
    }
   ],
   "source": [
    "print(\"Train features shape\",train_features.shape)\n",
    "print(\"Validation features shape\",valid_features.shape)"
   ]
  },
  {
   "cell_type": "code",
   "execution_count": 13,
   "metadata": {},
   "outputs": [
    {
     "name": "stdout",
     "output_type": "stream",
     "text": [
      "Model: \"sequential\"\n",
      "_________________________________________________________________\n",
      "Layer (type)                 Output Shape              Param #   \n",
      "=================================================================\n",
      "global_average_pooling2d (Gl (None, 512)               0         \n",
      "_________________________________________________________________\n",
      "dense (Dense)                (None, 10)                5130      \n",
      "=================================================================\n",
      "Total params: 5,130\n",
      "Trainable params: 5,130\n",
      "Non-trainable params: 0\n",
      "_________________________________________________________________\n"
     ]
    }
   ],
   "source": [
    "VGG19_model = Sequential()\n",
    "VGG19_model.add(GlobalAveragePooling2D(input_shape=train_features.shape))\n",
    "VGG19_model.add(Dense(10, activation='softmax', kernel_initializer='glorot_normal'))\n",
    "\n",
    "VGG19_model.summary()"
   ]
  },
  {
   "cell_type": "code",
   "execution_count": 14,
   "metadata": {},
   "outputs": [],
   "source": [
    "VGG19_model.compile(loss='categorical_crossentropy', optimizer='rmsprop', metrics=['accuracy'])"
   ]
  },
  {
   "cell_type": "code",
   "execution_count": 15,
   "metadata": {},
   "outputs": [
    {
     "name": "stdout",
     "output_type": "stream",
     "text": [
      "('Failed to import pydot. You must `pip install pydot` and install graphviz (https://graphviz.gitlab.io/download/), ', 'for `pydotprint` to work.')\n"
     ]
    }
   ],
   "source": [
    "plot_model(VGG19_model,to_file=os.path.join(os.getcwd(),\"model\",\"vgg19\",\"model_distracted_driver_vgg19.png\"),show_shapes=True,show_layer_names=True)"
   ]
  },
  {
   "cell_type": "code",
   "execution_count": 16,
   "metadata": {},
   "outputs": [
    {
     "name": "stdout",
     "output_type": "stream",
     "text": [
      "WARNING:tensorflow:`period` argument is deprecated. Please use `save_freq` to specify the frequency in number of batches seen.\n"
     ]
    }
   ],
   "source": [
    "filepath = os.path.join(MODEL_PATH,\"distracted-{epoch:02d}-{val_accuracy:.2f}.hdf5\")\n",
    "checkpoint = ModelCheckpoint(filepath, monitor='val_accuracy', verbose=1, save_best_only=True, mode='max',period=1)\n",
    "callbacks_list = [checkpoint]"
   ]
  },
  {
   "cell_type": "code",
   "execution_count": 17,
   "metadata": {},
   "outputs": [
    {
     "name": "stdout",
     "output_type": "stream",
     "text": [
      "Epoch 1/25\n",
      "1073/1122 [===========================>..] - ETA: 0s - loss: 1.7832 - accuracy: 0.4420\n",
      "Epoch 00001: val_accuracy improved from -inf to 0.55006, saving model to C:\\Users\\hp\\Desktop\\car\\Distracted-Driver-Detection-master\\data\\model\\vgg19\\distracted-01-0.55.hdf5\n",
      "1122/1122 [==============================] - 1s 1ms/step - loss: 1.7708 - accuracy: 0.4463 - val_loss: 1.4647 - val_accuracy: 0.5501\n",
      "Epoch 2/25\n",
      "1118/1122 [============================>.] - ETA: 0s - loss: 1.2802 - accuracy: 0.6370\n",
      "Epoch 00002: val_accuracy improved from 0.55006 to 0.63278, saving model to C:\\Users\\hp\\Desktop\\car\\Distracted-Driver-Detection-master\\data\\model\\vgg19\\distracted-02-0.63.hdf5\n",
      "1122/1122 [==============================] - 1s 1ms/step - loss: 1.2799 - accuracy: 0.6372 - val_loss: 1.1863 - val_accuracy: 0.6328\n",
      "Epoch 3/25\n",
      "1087/1122 [============================>.] - ETA: 0s - loss: 1.0593 - accuracy: 0.7098\n",
      "Epoch 00003: val_accuracy improved from 0.63278 to 0.72129, saving model to C:\\Users\\hp\\Desktop\\car\\Distracted-Driver-Detection-master\\data\\model\\vgg19\\distracted-03-0.72.hdf5\n",
      "1122/1122 [==============================] - 1s 978us/step - loss: 1.0590 - accuracy: 0.7102 - val_loss: 1.0013 - val_accuracy: 0.7213\n",
      "Epoch 4/25\n",
      "1112/1122 [============================>.] - ETA: 0s - loss: 0.9225 - accuracy: 0.7500\n",
      "Epoch 00004: val_accuracy improved from 0.72129 to 0.74805, saving model to C:\\Users\\hp\\Desktop\\car\\Distracted-Driver-Detection-master\\data\\model\\vgg19\\distracted-04-0.75.hdf5\n",
      "1122/1122 [==============================] - 1s 948us/step - loss: 0.9216 - accuracy: 0.7506 - val_loss: 0.8971 - val_accuracy: 0.7480\n",
      "Epoch 5/25\n",
      "1050/1122 [===========================>..] - ETA: 0s - loss: 0.8257 - accuracy: 0.7798\n",
      "Epoch 00005: val_accuracy improved from 0.74805 to 0.77793, saving model to C:\\Users\\hp\\Desktop\\car\\Distracted-Driver-Detection-master\\data\\model\\vgg19\\distracted-05-0.78.hdf5\n",
      "1122/1122 [==============================] - 1s 918us/step - loss: 0.8245 - accuracy: 0.7803 - val_loss: 0.8079 - val_accuracy: 0.7779\n",
      "Epoch 6/25\n",
      "1102/1122 [============================>.] - ETA: 0s - loss: 0.7516 - accuracy: 0.8005\n",
      "Epoch 00006: val_accuracy improved from 0.77793 to 0.80780, saving model to C:\\Users\\hp\\Desktop\\car\\Distracted-Driver-Detection-master\\data\\model\\vgg19\\distracted-06-0.81.hdf5\n",
      "1122/1122 [==============================] - 1s 870us/step - loss: 0.7514 - accuracy: 0.8005 - val_loss: 0.7268 - val_accuracy: 0.8078\n",
      "Epoch 7/25\n",
      "1062/1122 [===========================>..] - ETA: 0s - loss: 0.6938 - accuracy: 0.8177\n",
      "Epoch 00007: val_accuracy improved from 0.80780 to 0.82163, saving model to C:\\Users\\hp\\Desktop\\car\\Distracted-Driver-Detection-master\\data\\model\\vgg19\\distracted-07-0.82.hdf5\n",
      "1122/1122 [==============================] - 1s 971us/step - loss: 0.6940 - accuracy: 0.8168 - val_loss: 0.6786 - val_accuracy: 0.8216\n",
      "Epoch 8/25\n",
      "1085/1122 [============================>.] - ETA: 0s - loss: 0.6474 - accuracy: 0.8291\n",
      "Epoch 00008: val_accuracy improved from 0.82163 to 0.83122, saving model to C:\\Users\\hp\\Desktop\\car\\Distracted-Driver-Detection-master\\data\\model\\vgg19\\distracted-08-0.83.hdf5\n",
      "1122/1122 [==============================] - 1s 961us/step - loss: 0.6482 - accuracy: 0.8290 - val_loss: 0.6443 - val_accuracy: 0.8312\n",
      "Epoch 9/25\n",
      "1071/1122 [===========================>..] - ETA: 0s - loss: 0.6117 - accuracy: 0.8384\n",
      "Epoch 00009: val_accuracy improved from 0.83122 to 0.83746, saving model to C:\\Users\\hp\\Desktop\\car\\Distracted-Driver-Detection-master\\data\\model\\vgg19\\distracted-09-0.84.hdf5\n",
      "1122/1122 [==============================] - 1s 943us/step - loss: 0.6105 - accuracy: 0.8384 - val_loss: 0.6050 - val_accuracy: 0.8375\n",
      "Epoch 10/25\n",
      "1058/1122 [===========================>..] - ETA: 0s - loss: 0.5801 - accuracy: 0.8467\n",
      "Epoch 00010: val_accuracy improved from 0.83746 to 0.84660, saving model to C:\\Users\\hp\\Desktop\\car\\Distracted-Driver-Detection-master\\data\\model\\vgg19\\distracted-10-0.85.hdf5\n",
      "1122/1122 [==============================] - 1s 774us/step - loss: 0.5798 - accuracy: 0.8469 - val_loss: 0.5801 - val_accuracy: 0.8466\n",
      "Epoch 11/25\n",
      "1097/1122 [============================>.] - ETA: 0s - loss: 0.5521 - accuracy: 0.8538\n",
      "Epoch 00011: val_accuracy improved from 0.84660 to 0.85373, saving model to C:\\Users\\hp\\Desktop\\car\\Distracted-Driver-Detection-master\\data\\model\\vgg19\\distracted-11-0.85.hdf5\n",
      "1122/1122 [==============================] - 1s 886us/step - loss: 0.5518 - accuracy: 0.8539 - val_loss: 0.5567 - val_accuracy: 0.8537\n",
      "Epoch 12/25\n",
      "1076/1122 [===========================>..] - ETA: 0s - loss: 0.5288 - accuracy: 0.8600\n",
      "Epoch 00012: val_accuracy did not improve from 0.85373\n",
      "1122/1122 [==============================] - 1s 903us/step - loss: 0.5284 - accuracy: 0.8602 - val_loss: 0.5428 - val_accuracy: 0.8517\n",
      "Epoch 13/25\n",
      "1085/1122 [============================>.] - ETA: 0s - loss: 0.5081 - accuracy: 0.8662\n",
      "Epoch 00013: val_accuracy improved from 0.85373 to 0.86065, saving model to C:\\Users\\hp\\Desktop\\car\\Distracted-Driver-Detection-master\\data\\model\\vgg19\\distracted-13-0.86.hdf5\n",
      "1122/1122 [==============================] - 1s 948us/step - loss: 0.5075 - accuracy: 0.8656 - val_loss: 0.5107 - val_accuracy: 0.8606\n",
      "Epoch 14/25\n",
      "1102/1122 [============================>.] - ETA: 0s - loss: 0.4895 - accuracy: 0.8705\n",
      "Epoch 00014: val_accuracy improved from 0.86065 to 0.86511, saving model to C:\\Users\\hp\\Desktop\\car\\Distracted-Driver-Detection-master\\data\\model\\vgg19\\distracted-14-0.87.hdf5\n",
      "1122/1122 [==============================] - 1s 915us/step - loss: 0.4896 - accuracy: 0.8703 - val_loss: 0.5044 - val_accuracy: 0.8651\n",
      "Epoch 15/25\n",
      "1068/1122 [===========================>..] - ETA: 0s - loss: 0.4743 - accuracy: 0.8746\n",
      "Epoch 00015: val_accuracy did not improve from 0.86511\n",
      "1122/1122 [==============================] - 1s 864us/step - loss: 0.4730 - accuracy: 0.8754 - val_loss: 0.4916 - val_accuracy: 0.8651\n",
      "Epoch 16/25\n",
      "1121/1122 [============================>.] - ETA: 0s - loss: 0.4588 - accuracy: 0.8767\n",
      "Epoch 00016: val_accuracy improved from 0.86511 to 0.86689, saving model to C:\\Users\\hp\\Desktop\\car\\Distracted-Driver-Detection-master\\data\\model\\vgg19\\distracted-16-0.87.hdf5\n",
      "1122/1122 [==============================] - 1s 859us/step - loss: 0.4587 - accuracy: 0.8767 - val_loss: 0.4714 - val_accuracy: 0.8669\n",
      "Epoch 17/25\n",
      "1059/1122 [===========================>..] - ETA: 0s - loss: 0.4448 - accuracy: 0.8810\n",
      "Epoch 00017: val_accuracy improved from 0.86689 to 0.88027, saving model to C:\\Users\\hp\\Desktop\\car\\Distracted-Driver-Detection-master\\data\\model\\vgg19\\distracted-17-0.88.hdf5\n",
      "1122/1122 [==============================] - 1s 860us/step - loss: 0.4446 - accuracy: 0.8809 - val_loss: 0.4540 - val_accuracy: 0.8803\n",
      "Epoch 18/25\n",
      "1090/1122 [============================>.] - ETA: 0s - loss: 0.4352 - accuracy: 0.8850\n",
      "Epoch 00018: val_accuracy improved from 0.88027 to 0.88071, saving model to C:\\Users\\hp\\Desktop\\car\\Distracted-Driver-Detection-master\\data\\model\\vgg19\\distracted-18-0.88.hdf5\n",
      "1122/1122 [==============================] - 1s 912us/step - loss: 0.4336 - accuracy: 0.8850 - val_loss: 0.4465 - val_accuracy: 0.8807\n",
      "Epoch 19/25\n",
      "1106/1122 [============================>.] - ETA: 0s - loss: 0.4213 - accuracy: 0.8875\n",
      "Epoch 00019: val_accuracy improved from 0.88071 to 0.88183, saving model to C:\\Users\\hp\\Desktop\\car\\Distracted-Driver-Detection-master\\data\\model\\vgg19\\distracted-19-0.88.hdf5\n",
      "1122/1122 [==============================] - 1s 898us/step - loss: 0.4216 - accuracy: 0.8875 - val_loss: 0.4418 - val_accuracy: 0.8818\n",
      "Epoch 20/25\n",
      "1077/1122 [===========================>..] - ETA: 0s - loss: 0.4120 - accuracy: 0.8900\n",
      "Epoch 00020: val_accuracy improved from 0.88183 to 0.88384, saving model to C:\\Users\\hp\\Desktop\\car\\Distracted-Driver-Detection-master\\data\\model\\vgg19\\distracted-20-0.88.hdf5\n",
      "1122/1122 [==============================] - 1s 883us/step - loss: 0.4122 - accuracy: 0.8897 - val_loss: 0.4262 - val_accuracy: 0.8838\n",
      "Epoch 21/25\n",
      "1085/1122 [============================>.] - ETA: 0s - loss: 0.4035 - accuracy: 0.8904\n",
      "Epoch 00021: val_accuracy improved from 0.88384 to 0.88874, saving model to C:\\Users\\hp\\Desktop\\car\\Distracted-Driver-Detection-master\\data\\model\\vgg19\\distracted-21-0.89.hdf5\n",
      "1122/1122 [==============================] - 1s 820us/step - loss: 0.4036 - accuracy: 0.8903 - val_loss: 0.4155 - val_accuracy: 0.8887\n"
     ]
    },
    {
     "name": "stdout",
     "output_type": "stream",
     "text": [
      "Epoch 22/25\n",
      "1107/1122 [============================>.] - ETA: 0s - loss: 0.3938 - accuracy: 0.8944\n",
      "Epoch 00022: val_accuracy improved from 0.88874 to 0.88963, saving model to C:\\Users\\hp\\Desktop\\car\\Distracted-Driver-Detection-master\\data\\model\\vgg19\\distracted-22-0.89.hdf5\n",
      "1122/1122 [==============================] - 1s 999us/step - loss: 0.3943 - accuracy: 0.8941 - val_loss: 0.4137 - val_accuracy: 0.8896\n",
      "Epoch 23/25\n",
      "1055/1122 [===========================>..] - ETA: 0s - loss: 0.3848 - accuracy: 0.8966\n",
      "Epoch 00023: val_accuracy did not improve from 0.88963\n",
      "1122/1122 [==============================] - 1s 962us/step - loss: 0.3859 - accuracy: 0.8960 - val_loss: 0.4251 - val_accuracy: 0.8823\n",
      "Epoch 24/25\n",
      "1071/1122 [===========================>..] - ETA: 0s - loss: 0.3789 - accuracy: 0.8978\n",
      "Epoch 00024: val_accuracy improved from 0.88963 to 0.89565, saving model to C:\\Users\\hp\\Desktop\\car\\Distracted-Driver-Detection-master\\data\\model\\vgg19\\distracted-24-0.90.hdf5\n",
      "1122/1122 [==============================] - 1s 1ms/step - loss: 0.3787 - accuracy: 0.8979 - val_loss: 0.3945 - val_accuracy: 0.8957\n",
      "Epoch 25/25\n",
      "1084/1122 [===========================>..] - ETA: 0s - loss: 0.3720 - accuracy: 0.8997\n",
      "Epoch 00025: val_accuracy did not improve from 0.89565\n",
      "1122/1122 [==============================] - 1s 975us/step - loss: 0.3716 - accuracy: 0.9001 - val_loss: 0.4060 - val_accuracy: 0.8894\n"
     ]
    }
   ],
   "source": [
    "model_history = VGG19_model.fit(train_vgg19,ytrain,validation_data = (valid_vgg19, ytest),epochs=25, batch_size=16, shuffle=True,callbacks=callbacks_list)"
   ]
  },
  {
   "cell_type": "code",
   "execution_count": 18,
   "metadata": {},
   "outputs": [
    {
     "data": {
      "image/png": "[encoded data removed]",
      "text/plain": [
       "<Figure size 864x864 with 2 Axes>"
      ]
     },
     "metadata": {
      "needs_background": "light"
     },
     "output_type": "display_data"
    }
   ],
   "source": [
    "fig, (ax1, ax2) = plt.subplots(2, 1, figsize=(12, 12))\n",
    "ax1.plot(model_history.history['loss'], color='b', label=\"Training loss\")\n",
    "ax1.plot(model_history.history['val_loss'], color='r', label=\"validation loss\")\n",
    "ax1.set_xticks(np.arange(1, 400, 1))\n",
    "ax1.set_yticks(np.arange(0, 1, 0.1))\n",
    "\n",
    "ax2.plot(model_history.history['accuracy'], color='b', label=\"Training accuracy\")\n",
    "ax2.plot(model_history.history['val_accuracy'], color='r',label=\"Validation accuracy\")\n",
    "ax2.set_xticks(np.arange(1, 400, 1))\n",
    "\n",
    "legend = plt.legend(loc='best', shadow=True)\n",
    "plt.tight_layout()\n",
    "plt.show()"
   ]
  },
  {
   "cell_type": "markdown",
   "metadata": {},
   "source": [
    "# Model Analysis\n",
    "Finding the Confusion matrix,Precision,Recall and F1 score to analyse the model thus created"
   ]
  },
  {
   "cell_type": "code",
   "execution_count": 19,
   "metadata": {},
   "outputs": [],
   "source": [
    "def print_confusion_matrix(confusion_matrix, class_names, figsize = (10,7), fontsize=14):\n",
    "    df_cm = pd.DataFrame(\n",
    "        confusion_matrix, index=class_names, columns=class_names, \n",
    "    )\n",
    "    fig = plt.figure(figsize=figsize)\n",
    "    try:\n",
    "        heatmap = sns.heatmap(df_cm, annot=True, fmt=\"d\")\n",
    "    except ValueError:\n",
    "        raise ValueError(\"Confusion matrix values must be integers.\")\n",
    "    heatmap.yaxis.set_ticklabels(heatmap.yaxis.get_ticklabels(), rotation=0, ha='right', fontsize=fontsize)\n",
    "    heatmap.xaxis.set_ticklabels(heatmap.xaxis.get_ticklabels(), rotation=45, ha='right', fontsize=fontsize)\n",
    "    plt.ylabel('True label')\n",
    "    plt.xlabel('Predicted label')\n",
    "    fig.savefig(os.path.join(MODEL_PATH,\"confusion_matrixvgg19.png\"))\n",
    "    return fig"
   ]
  },
  {
   "cell_type": "code",
   "execution_count": 20,
   "metadata": {},
   "outputs": [],
   "source": [
    "def print_heatmap(n_labels, n_predictions, class_names):\n",
    "    labels = n_labels #sess.run(tf.argmax(n_labels, 1))\n",
    "    predictions = n_predictions #sess.run(tf.argmax(n_predictions, 1))\n",
    "\n",
    "#     confusion_matrix = sess.run(tf.contrib.metrics.confusion_matrix(labels, predictions))\n",
    "    matrix = confusion_matrix(labels.argmax(axis=1),predictions.argmax(axis=1))\n",
    "    row_sum = np.sum(matrix, axis = 1)\n",
    "    w, h = matrix.shape\n",
    "\n",
    "    c_m = np.zeros((w, h))\n",
    "\n",
    "    for i in range(h):\n",
    "        c_m[i] = matrix[i] * 100 / row_sum[i]\n",
    "\n",
    "    c = c_m.astype(dtype = np.uint8)\n",
    "\n",
    "    \n",
    "    heatmap = print_confusion_matrix(c, class_names, figsize=(18,10), fontsize=20)"
   ]
  },
  {
   "cell_type": "code",
   "execution_count": 21,
   "metadata": {},
   "outputs": [
    {
     "name": "stdout",
     "output_type": "stream",
     "text": [
      "141/141 [==============================] - 0s 676us/step\n"
     ]
    }
   ],
   "source": [
    "class_names = list()\n",
    "for name,idx in labels_id.items():\n",
    "    class_names.append(name)\n",
    "# print(class_names)\n",
    "ypred = VGG19_model.predict(valid_vgg19,verbose=1)"
   ]
  },
  {
   "cell_type": "markdown",
   "metadata": {},
   "source": [
    "## Confusion Matrix"
   ]
  },
  {
   "cell_type": "code",
   "execution_count": 22,
   "metadata": {},
   "outputs": [
    {
     "data": {
      "image/png": "[encoded data removed]",
      "text/plain": [
       "<Figure size 1296x720 with 2 Axes>"
      ]
     },
     "metadata": {
      "needs_background": "light"
     },
     "output_type": "display_data"
    }
   ],
   "source": [
    "print_heatmap(ytest,ypred,class_names)"
   ]
  },
  {
   "cell_type": "markdown",
   "metadata": {},
   "source": [
    "# Precision Recall F1 Score"
   ]
  },
  {
   "cell_type": "code",
   "execution_count": 23,
   "metadata": {},
   "outputs": [],
   "source": [
    "ypred_class = np.argmax(ypred,axis=1)\n",
    "# print(ypred_class[:10])\n",
    "ytest = np.argmax(ytest,axis=1)"
   ]
  },
  {
   "cell_type": "code",
   "execution_count": 24,
   "metadata": {},
   "outputs": [
    {
     "name": "stdout",
     "output_type": "stream",
     "text": [
      "Accuracy: 0.889409\n",
      "Precision: 0.894948\n",
      "Recall: 0.889409\n",
      "F1 score: 0.889752\n"
     ]
    }
   ],
   "source": [
    "accuracy = accuracy_score(ytest,ypred_class)\n",
    "print('Accuracy: %f' % accuracy)\n",
    "# precision tp / (tp + fp)\n",
    "precision = precision_score(ytest, ypred_class,average='weighted')\n",
    "print('Precision: %f' % precision)\n",
    "# recall: tp / (tp + fn)\n",
    "recall = recall_score(ytest,ypred_class,average='weighted')\n",
    "print('Recall: %f' % recall)\n",
    "# f1: 2 tp / (2 tp + fp + fn)\n",
    "f1 = f1_score(ytest,ypred_class,average='weighted')\n",
    "print('F1 score: %f' % f1)"
   ]
  }
 ],
 "metadata": {
  "kernelspec": {
   "display_name": "Python 3",
   "language": "python",
   "name": "python3"
  },
  "language_info": {
   "codemirror_mode": {
    "name": "ipython",
    "version": 3
   },
   "file_extension": ".py",
   "mimetype": "text/x-python",
   "name": "python",
   "nbconvert_exporter": "python",
   "pygments_lexer": "ipython3",
   "version": "3.8.8"
  }
 },
 "nbformat": 4,
 "nbformat_minor": 4
}
